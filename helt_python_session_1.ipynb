{
 "cells": [
  {
   "cell_type": "markdown",
   "metadata": {},
   "source": [
    "# Helt Python - Første økt\n",
    "\n",
    "### Dette er notebooken knyttet til første økten i \"Helt Python\" serien vår.\n",
    "\n",
    "## Introduksjon\n",
    "Dette er et lavterksel tilbud for alle i SSB som ønsker og lære seg litt Python og prøve seg på å bruke notebooks.\n",
    "Kurset er dynamisk og alle notatene som er og finne her vil utvikle seg etterhvert som vi gjennomfører det. Det lønner seg derfor og komme tilbake innimellom for og se hva som har forandret seg.\n",
    "\n",
    "Nå starter vi med å beskrive noen begreper dere vill høre her og når dere begynner med å jobbe med programering\n",
    "\n",
    "\n",
    "## Begrepsbeskrivelse\n",
    "### Python\n",
    "Python er navnet på et programerings språk. SAS er ett programerings språk. En av hovedforskjellene mellom SAS og python er at SAS er ett spesialisert språk for produksjon av statistikk. Det er også utviklet av et kommersielt firma, og styrt fra dem sentralt.\n",
    "\n",
    "Python på den andre side er ikke utviklet spesielt for statistikk produksjon, det har eksistert som en generisk programeringsspråk siden 1987. Språket er ikke utviklet av en enkelt oragnisasjon, det startet med 1 person men er idag et åpent prosjekt som alle kan bidra til.\n",
    "\n",
    "I de siste 15-20 år har utviklingen på python økt drastisk. Grunnet den åpene naturen til språket og den enkle syntaksen har Python blitt ett av yndlingsspråkene til \"Data Scientists\" og statistikere verden over.\n",
    "\n",
    "### Notebooks\n",
    "Jupyter Notebook er et \"program\" som lar deg skrive Python kode. Du kan tenke på det som SAS EG for python.\n",
    "\n",
    "Den Store forskjellen mellom EG og Jupyter notebooks er at det bruker såkalte \"Notebooks\" som \"program\" for å skrive koden. Disse notebooksene har en rekke funksjoner som er meget praktiske, men også ganske uvante.\n",
    "\n",
    "- Det første som du ser her er at du kan skrive tekst og kode i samme fil, men i seperate \"bokser\" (Såkalte celler, eller paragrapher). \n",
    "- Disse cellene can brukes til å dele opp koden din i biter som kan kjøres uavhengig av hverandre.\n",
    "- Det neste er at når du skriver kode, kan du se resultatet av koden direkte under koden du skrev.\n",
    "- Det er ingen log slik du er vant til fra SAS. \n",
    "    - Man kan lage en slik log, med det er noe mer avansert enn vi skal snakke om her\n",
    "    \n",
    "Det systemet som moderniseringsprosjektet jobber med som program for å lage og kjøre statistikk er også en Notebook-basert løsning.\n",
    "    \n",
    "Det er mye mer som kan sies om Notebooks men det kommer vi til å dekke mer omfattende i egne kurs.\n",
    "\n",
    "### DataFrame\n",
    "Dette er veldig enkelt. Dette er ett datasett, eller en tabel. Mye av arbeidet på Python er bassert på Engelsk, og DataFrame er det engelske begrepet som er brukt for datasett. \n",
    "\n",
    "### Library\n",
    "Dette er en sammling kode som \"noen\" har skrevet og utviklet. Denne har så blitt gjort tilgjengelig, og kan lastes inn i dine programmer slik at du kan dra nytte af funksjonene uten å måte lage disse selv. Litt som en `%INCLUDE` i SAS, men mye mer organisert.\n",
    "\n",
    "For å bruke et bibliotek (library) må de importeres inn i notebooken. Mer om dette om litt\n"
   ]
  },
  {
   "cell_type": "markdown",
   "metadata": {},
   "source": [
    "## Installer kursmaterialet\n",
    "\n",
    "Få tilgang til Jupyter Notebook\n",
    "https://ssbno.sharepoint.com/sites/IT-service/SiteAssets/SitePages/Ofte-stilte-spC3B8rsmC3A5l/Hvordan%20bruke%20JupyterHub.docx?web=1\n",
    "\n",
    "Når du har gjort dette, åpne ett nytt terminalbilde.\n",
    "\n",
    "Skriv inn:\n",
    "\n",
    "`git clone https://git-adm.ssb.no/scm/so19/helt_python.git`\n",
    "\n",
    "Nå ligger alt kursmaterialet i en ny mappe, `helt_python`, på arbeidsområdet ditt."
   ]
  },
  {
   "cell_type": "markdown",
   "metadata": {},
   "source": [
    "Etterhvert som det legges ut nytt materiale eller det eksisterende oppdateres kan du enkelt få denne oppdateringen ved å gå til mappen ved å skrive \n",
    "\n",
    "`cd helt_python`\n",
    "\n",
    "Som noen kjenner som linux komandoen for å navigere til en mappe. Når du er i denne mappen skriver du:\n",
    "\n",
    "`git pull`\n",
    "\n",
    "Med dette får du den til en vær tid siste oppdateringen av kurs materialet."
   ]
  },
  {
   "cell_type": "markdown",
   "metadata": {},
   "source": [
    "## Da starter vi"
   ]
  },
  {
   "cell_type": "markdown",
   "metadata": {},
   "source": [
    "Det første vi må gjøre er og laste inn de bibliotekene vi skal bruke.\n",
    "Det finnes utolig mang forskjellige biblioteker, og litt google søking vil la oss finne et bibliotek for nesten hva som helst.\n",
    "I utgangspunktet for i dag skal vi bare bruke 4 biblioteker, som er meget standard for statistikk arbeid."
   ]
  },
  {
   "cell_type": "code",
   "execution_count": 4,
   "metadata": {},
   "outputs": [],
   "source": [
    "import pandas as pd\n",
    "import numpy as np\n",
    "import sklearn\n",
    "import matplotlib.pyplot as plt\n",
    "import dapla as dp"
   ]
  },
  {
   "cell_type": "markdown",
   "metadata": {},
   "source": [
    "Neste steg er å laste inn data. \n",
    "Her benyttes Pandas til og lese data fra disk, vi må oppgi:\n",
    "* filtype : `read_csv`\n",
    "* lokalisasjon på disk : `'Data/Titanic.csv'`\n",
    "\n",
    "`dataset.head()` - viser de 5 første radene i datasettet"
   ]
  },
  {
   "cell_type": "code",
   "execution_count": 5,
   "metadata": {},
   "outputs": [
    {
     "ename": "DataAccessError",
     "evalue": "('Fant ikke datasett', b'NOT_FOUND')",
     "output_type": "error",
     "traceback": [
      "\u001b[0;31m---------------------------------------------------------------------------\u001b[0m",
      "\u001b[0;31mDataAccessError\u001b[0m                           Traceback (most recent call last)",
      "\u001b[0;32m<ipython-input-5-8f6f7e624288>\u001b[0m in \u001b[0;36m<module>\u001b[0;34m\u001b[0m\n\u001b[1;32m      1\u001b[0m \u001b[0;31m#df = pd.read_csv('Data/Titanic.csv')\u001b[0m\u001b[0;34m\u001b[0m\u001b[0;34m\u001b[0m\u001b[0;34m\u001b[0m\u001b[0m\n\u001b[0;32m----> 2\u001b[0;31m \u001b[0mdf\u001b[0m \u001b[0;34m=\u001b[0m \u001b[0mdp\u001b[0m\u001b[0;34m.\u001b[0m\u001b[0mread_pandas\u001b[0m\u001b[0;34m(\u001b[0m\u001b[0;34m'felles/kurs/helt_python/Titanic'\u001b[0m\u001b[0;34m)\u001b[0m\u001b[0;34m\u001b[0m\u001b[0;34m\u001b[0m\u001b[0m\n\u001b[0m\u001b[1;32m      3\u001b[0m \u001b[0mdf\u001b[0m\u001b[0;34m.\u001b[0m\u001b[0mhead\u001b[0m\u001b[0;34m(\u001b[0m\u001b[0;34m)\u001b[0m\u001b[0;34m\u001b[0m\u001b[0;34m\u001b[0m\u001b[0m\n",
      "\u001b[0;32m/opt/conda/lib/python3.8/site-packages/dapla/execute.py\u001b[0m in \u001b[0;36mread_pandas\u001b[0;34m(path)\u001b[0m\n\u001b[1;32m      8\u001b[0m \u001b[0;32mdef\u001b[0m \u001b[0mread_pandas\u001b[0m\u001b[0;34m(\u001b[0m\u001b[0mpath\u001b[0m\u001b[0;34m)\u001b[0m\u001b[0;34m:\u001b[0m\u001b[0;34m\u001b[0m\u001b[0;34m\u001b[0m\u001b[0m\n\u001b[1;32m      9\u001b[0m     \u001b[0mreader\u001b[0m \u001b[0;34m=\u001b[0m \u001b[0mDataSourceReader\u001b[0m\u001b[0;34m(\u001b[0m\u001b[0mAuthClient\u001b[0m\u001b[0;34m.\u001b[0m\u001b[0mget_access_token\u001b[0m\u001b[0;34m,\u001b[0m \u001b[0mos\u001b[0m\u001b[0;34m.\u001b[0m\u001b[0menviron\u001b[0m\u001b[0;34m[\u001b[0m\u001b[0;34m'DATA_ACCESS_URL'\u001b[0m\u001b[0;34m]\u001b[0m\u001b[0;34m,\u001b[0m  \u001b[0mos\u001b[0m\u001b[0;34m.\u001b[0m\u001b[0menviron\u001b[0m\u001b[0;34m[\u001b[0m\u001b[0;34m'CATALOG_URL'\u001b[0m\u001b[0;34m]\u001b[0m\u001b[0;34m)\u001b[0m\u001b[0;34m\u001b[0m\u001b[0;34m\u001b[0m\u001b[0m\n\u001b[0;32m---> 10\u001b[0;31m     \u001b[0;32mreturn\u001b[0m \u001b[0mreader\u001b[0m\u001b[0;34m.\u001b[0m\u001b[0mread\u001b[0m\u001b[0;34m(\u001b[0m\u001b[0mpath\u001b[0m\u001b[0;34m)\u001b[0m\u001b[0;34m\u001b[0m\u001b[0;34m\u001b[0m\u001b[0m\n\u001b[0m\u001b[1;32m     11\u001b[0m \u001b[0;34m\u001b[0m\u001b[0m\n\u001b[1;32m     12\u001b[0m \u001b[0;34m\u001b[0m\u001b[0m\n",
      "\u001b[0;32m/opt/conda/lib/python3.8/site-packages/dapla/services/reader.py\u001b[0m in \u001b[0;36mread\u001b[0;34m(self, path, columns, to_pandas, **kwargs)\u001b[0m\n\u001b[1;32m     45\u001b[0m \u001b[0;34m\u001b[0m\u001b[0m\n\u001b[1;32m     46\u001b[0m     \u001b[0;32mdef\u001b[0m \u001b[0mread\u001b[0m\u001b[0;34m(\u001b[0m\u001b[0mself\u001b[0m\u001b[0;34m,\u001b[0m \u001b[0mpath\u001b[0m\u001b[0;34m,\u001b[0m \u001b[0mcolumns\u001b[0m\u001b[0;34m=\u001b[0m\u001b[0;32mNone\u001b[0m\u001b[0;34m,\u001b[0m \u001b[0mto_pandas\u001b[0m\u001b[0;34m=\u001b[0m\u001b[0;32mTrue\u001b[0m\u001b[0;34m,\u001b[0m \u001b[0;34m**\u001b[0m\u001b[0mkwargs\u001b[0m\u001b[0;34m)\u001b[0m\u001b[0;34m:\u001b[0m\u001b[0;34m\u001b[0m\u001b[0;34m\u001b[0m\u001b[0m\n\u001b[0;32m---> 47\u001b[0;31m         \u001b[0mfs\u001b[0m\u001b[0;34m,\u001b[0m \u001b[0mgcs_path\u001b[0m \u001b[0;34m=\u001b[0m \u001b[0mself\u001b[0m\u001b[0;34m.\u001b[0m\u001b[0m_get_fs\u001b[0m\u001b[0;34m(\u001b[0m\u001b[0mpath\u001b[0m\u001b[0;34m)\u001b[0m\u001b[0;34m\u001b[0m\u001b[0;34m\u001b[0m\u001b[0m\n\u001b[0m\u001b[1;32m     48\u001b[0m         parquet_ds = pyarrow.parquet.ParquetDataset(\n\u001b[1;32m     49\u001b[0m             \u001b[0mgcs_path\u001b[0m\u001b[0;34m,\u001b[0m \u001b[0mfilesystem\u001b[0m\u001b[0;34m=\u001b[0m\u001b[0mfs\u001b[0m\u001b[0;34m,\u001b[0m \u001b[0;34m**\u001b[0m\u001b[0mkwargs\u001b[0m\u001b[0;34m\u001b[0m\u001b[0;34m\u001b[0m\u001b[0m\n",
      "\u001b[0;32m/opt/conda/lib/python3.8/site-packages/dapla/services/reader.py\u001b[0m in \u001b[0;36m_get_fs\u001b[0;34m(self, path)\u001b[0m\n\u001b[1;32m     57\u001b[0m     \u001b[0;32mdef\u001b[0m \u001b[0m_get_fs\u001b[0m\u001b[0;34m(\u001b[0m\u001b[0mself\u001b[0m\u001b[0;34m,\u001b[0m \u001b[0mpath\u001b[0m\u001b[0;34m)\u001b[0m\u001b[0;34m:\u001b[0m\u001b[0;34m\u001b[0m\u001b[0;34m\u001b[0m\u001b[0m\n\u001b[1;32m     58\u001b[0m         \u001b[0;31m# Get full path to latest version in GCS bucket\u001b[0m\u001b[0;34m\u001b[0m\u001b[0;34m\u001b[0m\u001b[0;34m\u001b[0m\u001b[0m\n\u001b[0;32m---> 59\u001b[0;31m         \u001b[0mlocation_response\u001b[0m \u001b[0;34m=\u001b[0m \u001b[0mself\u001b[0m\u001b[0;34m.\u001b[0m\u001b[0m_data_access_client\u001b[0m\u001b[0;34m.\u001b[0m\u001b[0mread_location\u001b[0m\u001b[0;34m(\u001b[0m\u001b[0mpath\u001b[0m\u001b[0;34m)\u001b[0m\u001b[0;34m\u001b[0m\u001b[0;34m\u001b[0m\u001b[0m\n\u001b[0m\u001b[1;32m     60\u001b[0m         \u001b[0;32mif\u001b[0m \u001b[0;32mnot\u001b[0m \u001b[0mlocation_response\u001b[0m\u001b[0;34m[\u001b[0m\u001b[0;34m'accessAllowed'\u001b[0m\u001b[0;34m]\u001b[0m\u001b[0;34m:\u001b[0m\u001b[0;34m\u001b[0m\u001b[0;34m\u001b[0m\u001b[0m\n\u001b[1;32m     61\u001b[0m             \u001b[0;32mraise\u001b[0m \u001b[0mDataAccessError\u001b[0m\u001b[0;34m(\u001b[0m\u001b[0;34m\"Din bruker har ikke tilgang\"\u001b[0m\u001b[0;34m)\u001b[0m\u001b[0;34m\u001b[0m\u001b[0;34m\u001b[0m\u001b[0m\n",
      "\u001b[0;32m/opt/conda/lib/python3.8/site-packages/dapla/services/clients.py\u001b[0m in \u001b[0;36mread_location\u001b[0;34m(self, path)\u001b[0m\n\u001b[1;32m     55\u001b[0m                                      \u001b[0;34m'Authorization'\u001b[0m\u001b[0;34m:\u001b[0m \u001b[0;34m'Bearer %s'\u001b[0m \u001b[0;34m%\u001b[0m \u001b[0mself\u001b[0m\u001b[0;34m.\u001b[0m\u001b[0m_user_token_provider\u001b[0m\u001b[0;34m(\u001b[0m\u001b[0;34m)\u001b[0m\u001b[0;34m\u001b[0m\u001b[0;34m\u001b[0m\u001b[0m\n\u001b[1;32m     56\u001b[0m                                  }, allow_redirects=False)\n\u001b[0;32m---> 57\u001b[0;31m         \u001b[0mhandle_error_codes\u001b[0m\u001b[0;34m(\u001b[0m\u001b[0mresponse\u001b[0m\u001b[0;34m)\u001b[0m\u001b[0;34m\u001b[0m\u001b[0;34m\u001b[0m\u001b[0m\n\u001b[0m\u001b[1;32m     58\u001b[0m         \u001b[0;32mreturn\u001b[0m \u001b[0mresponse\u001b[0m\u001b[0;34m.\u001b[0m\u001b[0mjson\u001b[0m\u001b[0;34m(\u001b[0m\u001b[0;34m)\u001b[0m\u001b[0;34m\u001b[0m\u001b[0;34m\u001b[0m\u001b[0m\n\u001b[1;32m     59\u001b[0m \u001b[0;34m\u001b[0m\u001b[0m\n",
      "\u001b[0;32m/opt/conda/lib/python3.8/site-packages/dapla/services/clients.py\u001b[0m in \u001b[0;36mhandle_error_codes\u001b[0;34m(response)\u001b[0m\n\u001b[1;32m    130\u001b[0m         \u001b[0;32mraise\u001b[0m \u001b[0mDataAccessError\u001b[0m\u001b[0;34m(\u001b[0m\u001b[0;34m\"Feil med tilgang til tjenesten\"\u001b[0m\u001b[0;34m,\u001b[0m \u001b[0mresponse\u001b[0m\u001b[0;34m.\u001b[0m\u001b[0mtext\u001b[0m\u001b[0;34m)\u001b[0m\u001b[0;34m\u001b[0m\u001b[0;34m\u001b[0m\u001b[0m\n\u001b[1;32m    131\u001b[0m     \u001b[0;32melif\u001b[0m \u001b[0mresponse\u001b[0m\u001b[0;34m.\u001b[0m\u001b[0mstatus_code\u001b[0m \u001b[0;34m==\u001b[0m \u001b[0;36m404\u001b[0m\u001b[0;34m:\u001b[0m\u001b[0;34m\u001b[0m\u001b[0;34m\u001b[0m\u001b[0m\n\u001b[0;32m--> 132\u001b[0;31m         \u001b[0;32mraise\u001b[0m \u001b[0mDataAccessError\u001b[0m\u001b[0;34m(\u001b[0m\u001b[0;34m\"Fant ikke datasett\"\u001b[0m\u001b[0;34m,\u001b[0m \u001b[0mresponse\u001b[0m\u001b[0;34m.\u001b[0m\u001b[0mcontent\u001b[0m\u001b[0;34m)\u001b[0m\u001b[0;34m\u001b[0m\u001b[0;34m\u001b[0m\u001b[0m\n\u001b[0m\u001b[1;32m    133\u001b[0m     \u001b[0;32melif\u001b[0m \u001b[0mresponse\u001b[0m\u001b[0;34m.\u001b[0m\u001b[0mstatus_code\u001b[0m \u001b[0;34m<\u001b[0m \u001b[0;36m200\u001b[0m \u001b[0;34m|\u001b[0m \u001b[0mresponse\u001b[0m\u001b[0;34m.\u001b[0m\u001b[0mstatus_code\u001b[0m \u001b[0;34m>=\u001b[0m \u001b[0;36m400\u001b[0m\u001b[0;34m:\u001b[0m\u001b[0;34m\u001b[0m\u001b[0;34m\u001b[0m\u001b[0m\n\u001b[1;32m    134\u001b[0m         \u001b[0;32mraise\u001b[0m \u001b[0mDataAccessError\u001b[0m\u001b[0;34m(\u001b[0m\u001b[0;34m\"En feil har oppstått: {}\"\u001b[0m\u001b[0;34m.\u001b[0m\u001b[0mformat\u001b[0m\u001b[0;34m(\u001b[0m\u001b[0mresponse\u001b[0m\u001b[0;34m)\u001b[0m\u001b[0;34m,\u001b[0m \u001b[0mresponse\u001b[0m\u001b[0;34m.\u001b[0m\u001b[0mtext\u001b[0m\u001b[0;34m)\u001b[0m\u001b[0;34m\u001b[0m\u001b[0;34m\u001b[0m\u001b[0m\n",
      "\u001b[0;31mDataAccessError\u001b[0m: ('Fant ikke datasett', b'NOT_FOUND')"
     ]
    }
   ],
   "source": [
    "#df = pd.read_csv('Data/Titanic.csv')\n",
    "df = dp.read_pandas('felles/kurs/helt_python/Titanic')\n",
    "df.head()"
   ]
  },
  {
   "cell_type": "markdown",
   "metadata": {},
   "source": [
    "I Python så lagres hver variabel (eller kolonne) som en daa type:\n",
    "\n",
    "* tekst - object\n",
    "* hele tall - int64\n",
    "* decimal tall - float64\n",
    "* ukjente/blandede - object\n",
    "\n",
    "*64 står for 64 bits lagring*"
   ]
  },
  {
   "cell_type": "code",
   "execution_count": 3,
   "metadata": {},
   "outputs": [
    {
     "data": {
      "text/plain": [
       "PassengerId      int64\n",
       "Survived         int64\n",
       "Pclass           int64\n",
       "Name            object\n",
       "Sex             object\n",
       "Age            float64\n",
       "SibSp            int64\n",
       "Parch            int64\n",
       "Ticket          object\n",
       "Fare           float64\n",
       "Cabin           object\n",
       "Embarked        object\n",
       "dtype: object"
      ]
     },
     "execution_count": 3,
     "metadata": {},
     "output_type": "execute_result"
    }
   ],
   "source": [
    "df.dtypes"
   ]
  },
  {
   "cell_type": "markdown",
   "metadata": {},
   "source": [
    "En måte å sikre at data lastes inn slik man vil er ved å bruke tilleggsargumenter når man laster inn filen.\n",
    "\n",
    "\n",
    "* `sep = ','` - kolonner i filen er separert med et komma,\n",
    "* `encoding = 'utf-8'` - Tekst i filen er lagte som utf-8 byte koder\n",
    "* `dtype={'Pclass':'str'}` - denne angir hvilen type hver kollonne har. Nye kolloner separeres med \", kolonne:type"
   ]
  },
  {
   "cell_type": "code",
   "execution_count": 4,
   "metadata": {},
   "outputs": [
    {
     "data": {
      "text/plain": [
       "PassengerId      int64\n",
       "Survived         int64\n",
       "Pclass          object\n",
       "Name            object\n",
       "Sex             object\n",
       "Age            float64\n",
       "SibSp            int64\n",
       "Parch            int64\n",
       "Ticket          object\n",
       "Fare           float64\n",
       "Cabin           object\n",
       "Embarked        object\n",
       "dtype: object"
      ]
     },
     "execution_count": 4,
     "metadata": {},
     "output_type": "execute_result"
    }
   ],
   "source": [
    "df = pd.read_csv('Data/Titanic.csv', sep = ',', encoding ='utf-8', dtype={'Pclass':'str'})\n",
    "df.dtypes"
   ]
  },
  {
   "cell_type": "markdown",
   "metadata": {},
   "source": [
    "`datasett.describe()` - er en funksjon som gir et kjapt sammendrag av nøkkeltallene i hver kolonne."
   ]
  },
  {
   "cell_type": "code",
   "execution_count": 5,
   "metadata": {},
   "outputs": [
    {
     "data": {
      "text/html": [
       "<div>\n",
       "<style scoped>\n",
       "    .dataframe tbody tr th:only-of-type {\n",
       "        vertical-align: middle;\n",
       "    }\n",
       "\n",
       "    .dataframe tbody tr th {\n",
       "        vertical-align: top;\n",
       "    }\n",
       "\n",
       "    .dataframe thead th {\n",
       "        text-align: right;\n",
       "    }\n",
       "</style>\n",
       "<table border=\"1\" class=\"dataframe\">\n",
       "  <thead>\n",
       "    <tr style=\"text-align: right;\">\n",
       "      <th></th>\n",
       "      <th>PassengerId</th>\n",
       "      <th>Survived</th>\n",
       "      <th>Age</th>\n",
       "      <th>SibSp</th>\n",
       "      <th>Parch</th>\n",
       "      <th>Fare</th>\n",
       "    </tr>\n",
       "  </thead>\n",
       "  <tbody>\n",
       "    <tr>\n",
       "      <th>count</th>\n",
       "      <td>891.000000</td>\n",
       "      <td>891.000000</td>\n",
       "      <td>714.000000</td>\n",
       "      <td>891.000000</td>\n",
       "      <td>891.000000</td>\n",
       "      <td>891.000000</td>\n",
       "    </tr>\n",
       "    <tr>\n",
       "      <th>mean</th>\n",
       "      <td>446.000000</td>\n",
       "      <td>0.383838</td>\n",
       "      <td>29.699118</td>\n",
       "      <td>0.523008</td>\n",
       "      <td>0.381594</td>\n",
       "      <td>32.204208</td>\n",
       "    </tr>\n",
       "    <tr>\n",
       "      <th>std</th>\n",
       "      <td>257.353842</td>\n",
       "      <td>0.486592</td>\n",
       "      <td>14.526497</td>\n",
       "      <td>1.102743</td>\n",
       "      <td>0.806057</td>\n",
       "      <td>49.693429</td>\n",
       "    </tr>\n",
       "    <tr>\n",
       "      <th>min</th>\n",
       "      <td>1.000000</td>\n",
       "      <td>0.000000</td>\n",
       "      <td>0.420000</td>\n",
       "      <td>0.000000</td>\n",
       "      <td>0.000000</td>\n",
       "      <td>0.000000</td>\n",
       "    </tr>\n",
       "    <tr>\n",
       "      <th>25%</th>\n",
       "      <td>223.500000</td>\n",
       "      <td>0.000000</td>\n",
       "      <td>20.125000</td>\n",
       "      <td>0.000000</td>\n",
       "      <td>0.000000</td>\n",
       "      <td>7.910400</td>\n",
       "    </tr>\n",
       "    <tr>\n",
       "      <th>50%</th>\n",
       "      <td>446.000000</td>\n",
       "      <td>0.000000</td>\n",
       "      <td>28.000000</td>\n",
       "      <td>0.000000</td>\n",
       "      <td>0.000000</td>\n",
       "      <td>14.454200</td>\n",
       "    </tr>\n",
       "    <tr>\n",
       "      <th>75%</th>\n",
       "      <td>668.500000</td>\n",
       "      <td>1.000000</td>\n",
       "      <td>38.000000</td>\n",
       "      <td>1.000000</td>\n",
       "      <td>0.000000</td>\n",
       "      <td>31.000000</td>\n",
       "    </tr>\n",
       "    <tr>\n",
       "      <th>max</th>\n",
       "      <td>891.000000</td>\n",
       "      <td>1.000000</td>\n",
       "      <td>80.000000</td>\n",
       "      <td>8.000000</td>\n",
       "      <td>6.000000</td>\n",
       "      <td>512.329200</td>\n",
       "    </tr>\n",
       "  </tbody>\n",
       "</table>\n",
       "</div>"
      ],
      "text/plain": [
       "       PassengerId    Survived         Age       SibSp       Parch        Fare\n",
       "count   891.000000  891.000000  714.000000  891.000000  891.000000  891.000000\n",
       "mean    446.000000    0.383838   29.699118    0.523008    0.381594   32.204208\n",
       "std     257.353842    0.486592   14.526497    1.102743    0.806057   49.693429\n",
       "min       1.000000    0.000000    0.420000    0.000000    0.000000    0.000000\n",
       "25%     223.500000    0.000000   20.125000    0.000000    0.000000    7.910400\n",
       "50%     446.000000    0.000000   28.000000    0.000000    0.000000   14.454200\n",
       "75%     668.500000    1.000000   38.000000    1.000000    0.000000   31.000000\n",
       "max     891.000000    1.000000   80.000000    8.000000    6.000000  512.329200"
      ]
     },
     "execution_count": 5,
     "metadata": {},
     "output_type": "execute_result"
    }
   ],
   "source": [
    "df.describe()"
   ]
  },
  {
   "cell_type": "markdown",
   "metadata": {},
   "source": [
    "Ved å gi ett sett med kommaseparerte kolonne navn i `[[]]` etter navnet på datasettet kan du spessifisere hvilken kolonner du skal lese. dette fungerer med nesten alle funksjoner"
   ]
  },
  {
   "cell_type": "code",
   "execution_count": 6,
   "metadata": {},
   "outputs": [
    {
     "data": {
      "text/html": [
       "<div>\n",
       "<style scoped>\n",
       "    .dataframe tbody tr th:only-of-type {\n",
       "        vertical-align: middle;\n",
       "    }\n",
       "\n",
       "    .dataframe tbody tr th {\n",
       "        vertical-align: top;\n",
       "    }\n",
       "\n",
       "    .dataframe thead th {\n",
       "        text-align: right;\n",
       "    }\n",
       "</style>\n",
       "<table border=\"1\" class=\"dataframe\">\n",
       "  <thead>\n",
       "    <tr style=\"text-align: right;\">\n",
       "      <th></th>\n",
       "      <th>Age</th>\n",
       "      <th>Fare</th>\n",
       "    </tr>\n",
       "  </thead>\n",
       "  <tbody>\n",
       "    <tr>\n",
       "      <th>count</th>\n",
       "      <td>714.000000</td>\n",
       "      <td>891.000000</td>\n",
       "    </tr>\n",
       "    <tr>\n",
       "      <th>mean</th>\n",
       "      <td>29.699118</td>\n",
       "      <td>32.204208</td>\n",
       "    </tr>\n",
       "    <tr>\n",
       "      <th>std</th>\n",
       "      <td>14.526497</td>\n",
       "      <td>49.693429</td>\n",
       "    </tr>\n",
       "    <tr>\n",
       "      <th>min</th>\n",
       "      <td>0.420000</td>\n",
       "      <td>0.000000</td>\n",
       "    </tr>\n",
       "    <tr>\n",
       "      <th>25%</th>\n",
       "      <td>20.125000</td>\n",
       "      <td>7.910400</td>\n",
       "    </tr>\n",
       "    <tr>\n",
       "      <th>50%</th>\n",
       "      <td>28.000000</td>\n",
       "      <td>14.454200</td>\n",
       "    </tr>\n",
       "    <tr>\n",
       "      <th>75%</th>\n",
       "      <td>38.000000</td>\n",
       "      <td>31.000000</td>\n",
       "    </tr>\n",
       "    <tr>\n",
       "      <th>max</th>\n",
       "      <td>80.000000</td>\n",
       "      <td>512.329200</td>\n",
       "    </tr>\n",
       "  </tbody>\n",
       "</table>\n",
       "</div>"
      ],
      "text/plain": [
       "              Age        Fare\n",
       "count  714.000000  891.000000\n",
       "mean    29.699118   32.204208\n",
       "std     14.526497   49.693429\n",
       "min      0.420000    0.000000\n",
       "25%     20.125000    7.910400\n",
       "50%     28.000000   14.454200\n",
       "75%     38.000000   31.000000\n",
       "max     80.000000  512.329200"
      ]
     },
     "execution_count": 6,
     "metadata": {},
     "output_type": "execute_result"
    }
   ],
   "source": [
    "df[['Age', 'Fare']].describe()"
   ]
  },
  {
   "cell_type": "markdown",
   "metadata": {},
   "source": [
    "Noen kolonner kan inneholde tomme verdier, vi ønsker og finne ut hvor mange dette er. `.isnull()` sier noe om e verdi i en celle er tom. etterpå summerer vi antallet tomme med den matematiske funksjonen `.sum()`"
   ]
  },
  {
   "cell_type": "code",
   "execution_count": 7,
   "metadata": {},
   "outputs": [
    {
     "data": {
      "text/plain": [
       "687"
      ]
     },
     "execution_count": 7,
     "metadata": {},
     "output_type": "execute_result"
    }
   ],
   "source": [
    "df['Cabin'].isnull().sum()"
   ]
  },
  {
   "cell_type": "markdown",
   "metadata": {},
   "source": [
    "For å si noe om undergrupper i dataen så gruperer vi med `.groupby('kolonne')` velger kolonner vi ønsker og se på. så gjennomfører en metode - i dette tilfelle gjennomsnitt."
   ]
  },
  {
   "cell_type": "code",
   "execution_count": 8,
   "metadata": {},
   "outputs": [
    {
     "data": {
      "text/html": [
       "<div>\n",
       "<style scoped>\n",
       "    .dataframe tbody tr th:only-of-type {\n",
       "        vertical-align: middle;\n",
       "    }\n",
       "\n",
       "    .dataframe tbody tr th {\n",
       "        vertical-align: top;\n",
       "    }\n",
       "\n",
       "    .dataframe thead th {\n",
       "        text-align: right;\n",
       "    }\n",
       "</style>\n",
       "<table border=\"1\" class=\"dataframe\">\n",
       "  <thead>\n",
       "    <tr style=\"text-align: right;\">\n",
       "      <th></th>\n",
       "      <th>Age</th>\n",
       "      <th>Fare</th>\n",
       "    </tr>\n",
       "    <tr>\n",
       "      <th>Pclass</th>\n",
       "      <th></th>\n",
       "      <th></th>\n",
       "    </tr>\n",
       "  </thead>\n",
       "  <tbody>\n",
       "    <tr>\n",
       "      <th>1</th>\n",
       "      <td>38.233441</td>\n",
       "      <td>84.154687</td>\n",
       "    </tr>\n",
       "    <tr>\n",
       "      <th>2</th>\n",
       "      <td>29.877630</td>\n",
       "      <td>20.662183</td>\n",
       "    </tr>\n",
       "    <tr>\n",
       "      <th>3</th>\n",
       "      <td>25.140620</td>\n",
       "      <td>13.675550</td>\n",
       "    </tr>\n",
       "  </tbody>\n",
       "</table>\n",
       "</div>"
      ],
      "text/plain": [
       "              Age       Fare\n",
       "Pclass                      \n",
       "1       38.233441  84.154687\n",
       "2       29.877630  20.662183\n",
       "3       25.140620  13.675550"
      ]
     },
     "execution_count": 8,
     "metadata": {},
     "output_type": "execute_result"
    }
   ],
   "source": [
    "by_class = df.groupby('Pclass')[['Age', 'Fare']].mean()\n",
    "by_class.head()"
   ]
  },
  {
   "cell_type": "markdown",
   "metadata": {},
   "source": [
    "Vi ser at kolonnen i det nye datasettet heter det samme som de orginale kolonnene. Ønsker vi å koble disse tilbake til det orginale data settet bør vi endre navn. Dette gjøres med: \n",
    "\n",
    "`datasett.rename({gammelkollone : nykollonne}]`"
   ]
  },
  {
   "cell_type": "code",
   "execution_count": 9,
   "metadata": {},
   "outputs": [
    {
     "data": {
      "text/html": [
       "<div>\n",
       "<style scoped>\n",
       "    .dataframe tbody tr th:only-of-type {\n",
       "        vertical-align: middle;\n",
       "    }\n",
       "\n",
       "    .dataframe tbody tr th {\n",
       "        vertical-align: top;\n",
       "    }\n",
       "\n",
       "    .dataframe thead th {\n",
       "        text-align: right;\n",
       "    }\n",
       "</style>\n",
       "<table border=\"1\" class=\"dataframe\">\n",
       "  <thead>\n",
       "    <tr style=\"text-align: right;\">\n",
       "      <th></th>\n",
       "      <th>Mean_age</th>\n",
       "      <th>Mean_fare</th>\n",
       "    </tr>\n",
       "    <tr>\n",
       "      <th>Pclass</th>\n",
       "      <th></th>\n",
       "      <th></th>\n",
       "    </tr>\n",
       "  </thead>\n",
       "  <tbody>\n",
       "    <tr>\n",
       "      <th>1</th>\n",
       "      <td>38.233441</td>\n",
       "      <td>84.154687</td>\n",
       "    </tr>\n",
       "    <tr>\n",
       "      <th>2</th>\n",
       "      <td>29.877630</td>\n",
       "      <td>20.662183</td>\n",
       "    </tr>\n",
       "    <tr>\n",
       "      <th>3</th>\n",
       "      <td>25.140620</td>\n",
       "      <td>13.675550</td>\n",
       "    </tr>\n",
       "  </tbody>\n",
       "</table>\n",
       "</div>"
      ],
      "text/plain": [
       "         Mean_age  Mean_fare\n",
       "Pclass                      \n",
       "1       38.233441  84.154687\n",
       "2       29.877630  20.662183\n",
       "3       25.140620  13.675550"
      ]
     },
     "execution_count": 9,
     "metadata": {},
     "output_type": "execute_result"
    }
   ],
   "source": [
    "by_class = by_class.rename({'Age': 'Mean_age', 'Fare': 'Mean_fare'}, axis=1)\n",
    "by_class.head()"
   ]
  },
  {
   "cell_type": "markdown",
   "metadata": {},
   "source": [
    "Å koble data minner mye om hvordan det gjøres i SAS"
   ]
  },
  {
   "cell_type": "code",
   "execution_count": 10,
   "metadata": {},
   "outputs": [
    {
     "data": {
      "text/html": [
       "<div>\n",
       "<style scoped>\n",
       "    .dataframe tbody tr th:only-of-type {\n",
       "        vertical-align: middle;\n",
       "    }\n",
       "\n",
       "    .dataframe tbody tr th {\n",
       "        vertical-align: top;\n",
       "    }\n",
       "\n",
       "    .dataframe thead th {\n",
       "        text-align: right;\n",
       "    }\n",
       "</style>\n",
       "<table border=\"1\" class=\"dataframe\">\n",
       "  <thead>\n",
       "    <tr style=\"text-align: right;\">\n",
       "      <th></th>\n",
       "      <th>PassengerId</th>\n",
       "      <th>Survived</th>\n",
       "      <th>Pclass</th>\n",
       "      <th>Name</th>\n",
       "      <th>Sex</th>\n",
       "      <th>Age</th>\n",
       "      <th>SibSp</th>\n",
       "      <th>Parch</th>\n",
       "      <th>Ticket</th>\n",
       "      <th>Fare</th>\n",
       "      <th>Cabin</th>\n",
       "      <th>Embarked</th>\n",
       "      <th>Mean_age</th>\n",
       "      <th>Mean_fare</th>\n",
       "    </tr>\n",
       "  </thead>\n",
       "  <tbody>\n",
       "    <tr>\n",
       "      <th>0</th>\n",
       "      <td>1</td>\n",
       "      <td>0</td>\n",
       "      <td>3</td>\n",
       "      <td>Braund, Mr. Owen Harris</td>\n",
       "      <td>male</td>\n",
       "      <td>22.0</td>\n",
       "      <td>1</td>\n",
       "      <td>0</td>\n",
       "      <td>A/5 21171</td>\n",
       "      <td>7.2500</td>\n",
       "      <td>NaN</td>\n",
       "      <td>S</td>\n",
       "      <td>25.140620</td>\n",
       "      <td>13.675550</td>\n",
       "    </tr>\n",
       "    <tr>\n",
       "      <th>1</th>\n",
       "      <td>2</td>\n",
       "      <td>1</td>\n",
       "      <td>1</td>\n",
       "      <td>Cumings, Mrs. John Bradley (Florence Briggs Th...</td>\n",
       "      <td>female</td>\n",
       "      <td>38.0</td>\n",
       "      <td>1</td>\n",
       "      <td>0</td>\n",
       "      <td>PC 17599</td>\n",
       "      <td>71.2833</td>\n",
       "      <td>C85</td>\n",
       "      <td>C</td>\n",
       "      <td>38.233441</td>\n",
       "      <td>84.154687</td>\n",
       "    </tr>\n",
       "    <tr>\n",
       "      <th>2</th>\n",
       "      <td>3</td>\n",
       "      <td>1</td>\n",
       "      <td>3</td>\n",
       "      <td>Heikkinen, Miss. Laina</td>\n",
       "      <td>female</td>\n",
       "      <td>26.0</td>\n",
       "      <td>0</td>\n",
       "      <td>0</td>\n",
       "      <td>STON/O2. 3101282</td>\n",
       "      <td>7.9250</td>\n",
       "      <td>NaN</td>\n",
       "      <td>S</td>\n",
       "      <td>25.140620</td>\n",
       "      <td>13.675550</td>\n",
       "    </tr>\n",
       "    <tr>\n",
       "      <th>3</th>\n",
       "      <td>4</td>\n",
       "      <td>1</td>\n",
       "      <td>1</td>\n",
       "      <td>Futrelle, Mrs. Jacques Heath (Lily May Peel)</td>\n",
       "      <td>female</td>\n",
       "      <td>35.0</td>\n",
       "      <td>1</td>\n",
       "      <td>0</td>\n",
       "      <td>113803</td>\n",
       "      <td>53.1000</td>\n",
       "      <td>C123</td>\n",
       "      <td>S</td>\n",
       "      <td>38.233441</td>\n",
       "      <td>84.154687</td>\n",
       "    </tr>\n",
       "    <tr>\n",
       "      <th>4</th>\n",
       "      <td>5</td>\n",
       "      <td>0</td>\n",
       "      <td>3</td>\n",
       "      <td>Allen, Mr. William Henry</td>\n",
       "      <td>male</td>\n",
       "      <td>35.0</td>\n",
       "      <td>0</td>\n",
       "      <td>0</td>\n",
       "      <td>373450</td>\n",
       "      <td>8.0500</td>\n",
       "      <td>NaN</td>\n",
       "      <td>S</td>\n",
       "      <td>25.140620</td>\n",
       "      <td>13.675550</td>\n",
       "    </tr>\n",
       "  </tbody>\n",
       "</table>\n",
       "</div>"
      ],
      "text/plain": [
       "   PassengerId  Survived Pclass  \\\n",
       "0            1         0      3   \n",
       "1            2         1      1   \n",
       "2            3         1      3   \n",
       "3            4         1      1   \n",
       "4            5         0      3   \n",
       "\n",
       "                                                Name     Sex   Age  SibSp  \\\n",
       "0                            Braund, Mr. Owen Harris    male  22.0      1   \n",
       "1  Cumings, Mrs. John Bradley (Florence Briggs Th...  female  38.0      1   \n",
       "2                             Heikkinen, Miss. Laina  female  26.0      0   \n",
       "3       Futrelle, Mrs. Jacques Heath (Lily May Peel)  female  35.0      1   \n",
       "4                           Allen, Mr. William Henry    male  35.0      0   \n",
       "\n",
       "   Parch            Ticket     Fare Cabin Embarked   Mean_age  Mean_fare  \n",
       "0      0         A/5 21171   7.2500   NaN        S  25.140620  13.675550  \n",
       "1      0          PC 17599  71.2833   C85        C  38.233441  84.154687  \n",
       "2      0  STON/O2. 3101282   7.9250   NaN        S  25.140620  13.675550  \n",
       "3      0            113803  53.1000  C123        S  38.233441  84.154687  \n",
       "4      0            373450   8.0500   NaN        S  25.140620  13.675550  "
      ]
     },
     "execution_count": 10,
     "metadata": {},
     "output_type": "execute_result"
    }
   ],
   "source": [
    "df2 = pd.merge(df, by_class, on='Pclass', how='left')\n",
    "df2.head()"
   ]
  },
  {
   "cell_type": "markdown",
   "metadata": {},
   "source": [
    "Å lage nye kolonner i et datasett er så enkelt som å skrive:\n",
    "\n",
    "`datasett['nykolonne'] = innholdet i ny kolonne`"
   ]
  },
  {
   "cell_type": "code",
   "execution_count": 11,
   "metadata": {
    "scrolled": true
   },
   "outputs": [
    {
     "data": {
      "text/html": [
       "<div>\n",
       "<style scoped>\n",
       "    .dataframe tbody tr th:only-of-type {\n",
       "        vertical-align: middle;\n",
       "    }\n",
       "\n",
       "    .dataframe tbody tr th {\n",
       "        vertical-align: top;\n",
       "    }\n",
       "\n",
       "    .dataframe thead th {\n",
       "        text-align: right;\n",
       "    }\n",
       "</style>\n",
       "<table border=\"1\" class=\"dataframe\">\n",
       "  <thead>\n",
       "    <tr style=\"text-align: right;\">\n",
       "      <th></th>\n",
       "      <th>PassengerId</th>\n",
       "      <th>Survived</th>\n",
       "      <th>Pclass</th>\n",
       "      <th>Name</th>\n",
       "      <th>Sex</th>\n",
       "      <th>Age</th>\n",
       "      <th>SibSp</th>\n",
       "      <th>Parch</th>\n",
       "      <th>Ticket</th>\n",
       "      <th>Fare</th>\n",
       "      <th>Cabin</th>\n",
       "      <th>Embarked</th>\n",
       "      <th>Mean_age</th>\n",
       "      <th>Mean_fare</th>\n",
       "      <th>dist_age</th>\n",
       "      <th>dist_fare</th>\n",
       "    </tr>\n",
       "  </thead>\n",
       "  <tbody>\n",
       "    <tr>\n",
       "      <th>0</th>\n",
       "      <td>1</td>\n",
       "      <td>0</td>\n",
       "      <td>3</td>\n",
       "      <td>Braund, Mr. Owen Harris</td>\n",
       "      <td>male</td>\n",
       "      <td>22.0</td>\n",
       "      <td>1</td>\n",
       "      <td>0</td>\n",
       "      <td>A/5 21171</td>\n",
       "      <td>7.2500</td>\n",
       "      <td>NaN</td>\n",
       "      <td>S</td>\n",
       "      <td>25.140620</td>\n",
       "      <td>13.675550</td>\n",
       "      <td>-3.140620</td>\n",
       "      <td>-6.425550</td>\n",
       "    </tr>\n",
       "    <tr>\n",
       "      <th>1</th>\n",
       "      <td>2</td>\n",
       "      <td>1</td>\n",
       "      <td>1</td>\n",
       "      <td>Cumings, Mrs. John Bradley (Florence Briggs Th...</td>\n",
       "      <td>female</td>\n",
       "      <td>38.0</td>\n",
       "      <td>1</td>\n",
       "      <td>0</td>\n",
       "      <td>PC 17599</td>\n",
       "      <td>71.2833</td>\n",
       "      <td>C85</td>\n",
       "      <td>C</td>\n",
       "      <td>38.233441</td>\n",
       "      <td>84.154687</td>\n",
       "      <td>-0.233441</td>\n",
       "      <td>-12.871387</td>\n",
       "    </tr>\n",
       "    <tr>\n",
       "      <th>2</th>\n",
       "      <td>3</td>\n",
       "      <td>1</td>\n",
       "      <td>3</td>\n",
       "      <td>Heikkinen, Miss. Laina</td>\n",
       "      <td>female</td>\n",
       "      <td>26.0</td>\n",
       "      <td>0</td>\n",
       "      <td>0</td>\n",
       "      <td>STON/O2. 3101282</td>\n",
       "      <td>7.9250</td>\n",
       "      <td>NaN</td>\n",
       "      <td>S</td>\n",
       "      <td>25.140620</td>\n",
       "      <td>13.675550</td>\n",
       "      <td>0.859380</td>\n",
       "      <td>-5.750550</td>\n",
       "    </tr>\n",
       "    <tr>\n",
       "      <th>3</th>\n",
       "      <td>4</td>\n",
       "      <td>1</td>\n",
       "      <td>1</td>\n",
       "      <td>Futrelle, Mrs. Jacques Heath (Lily May Peel)</td>\n",
       "      <td>female</td>\n",
       "      <td>35.0</td>\n",
       "      <td>1</td>\n",
       "      <td>0</td>\n",
       "      <td>113803</td>\n",
       "      <td>53.1000</td>\n",
       "      <td>C123</td>\n",
       "      <td>S</td>\n",
       "      <td>38.233441</td>\n",
       "      <td>84.154687</td>\n",
       "      <td>-3.233441</td>\n",
       "      <td>-31.054687</td>\n",
       "    </tr>\n",
       "    <tr>\n",
       "      <th>4</th>\n",
       "      <td>5</td>\n",
       "      <td>0</td>\n",
       "      <td>3</td>\n",
       "      <td>Allen, Mr. William Henry</td>\n",
       "      <td>male</td>\n",
       "      <td>35.0</td>\n",
       "      <td>0</td>\n",
       "      <td>0</td>\n",
       "      <td>373450</td>\n",
       "      <td>8.0500</td>\n",
       "      <td>NaN</td>\n",
       "      <td>S</td>\n",
       "      <td>25.140620</td>\n",
       "      <td>13.675550</td>\n",
       "      <td>9.859380</td>\n",
       "      <td>-5.625550</td>\n",
       "    </tr>\n",
       "  </tbody>\n",
       "</table>\n",
       "</div>"
      ],
      "text/plain": [
       "   PassengerId  Survived Pclass  \\\n",
       "0            1         0      3   \n",
       "1            2         1      1   \n",
       "2            3         1      3   \n",
       "3            4         1      1   \n",
       "4            5         0      3   \n",
       "\n",
       "                                                Name     Sex   Age  SibSp  \\\n",
       "0                            Braund, Mr. Owen Harris    male  22.0      1   \n",
       "1  Cumings, Mrs. John Bradley (Florence Briggs Th...  female  38.0      1   \n",
       "2                             Heikkinen, Miss. Laina  female  26.0      0   \n",
       "3       Futrelle, Mrs. Jacques Heath (Lily May Peel)  female  35.0      1   \n",
       "4                           Allen, Mr. William Henry    male  35.0      0   \n",
       "\n",
       "   Parch            Ticket     Fare Cabin Embarked   Mean_age  Mean_fare  \\\n",
       "0      0         A/5 21171   7.2500   NaN        S  25.140620  13.675550   \n",
       "1      0          PC 17599  71.2833   C85        C  38.233441  84.154687   \n",
       "2      0  STON/O2. 3101282   7.9250   NaN        S  25.140620  13.675550   \n",
       "3      0            113803  53.1000  C123        S  38.233441  84.154687   \n",
       "4      0            373450   8.0500   NaN        S  25.140620  13.675550   \n",
       "\n",
       "   dist_age  dist_fare  \n",
       "0 -3.140620  -6.425550  \n",
       "1 -0.233441 -12.871387  \n",
       "2  0.859380  -5.750550  \n",
       "3 -3.233441 -31.054687  \n",
       "4  9.859380  -5.625550  "
      ]
     },
     "execution_count": 11,
     "metadata": {},
     "output_type": "execute_result"
    }
   ],
   "source": [
    "df2['dist_age'] = df2['Age']-df2['Mean_age']\n",
    "df2['dist_fare'] = df2['Fare']-df2['Mean_fare']\n",
    "df2.head()"
   ]
  },
  {
   "cell_type": "markdown",
   "metadata": {},
   "source": [
    "Hvis vi er interesert i ett subsett av dataene kan vi filtrere dataen på en gitt kollonne ved og bruke:\n",
    "\n",
    "`datasett.loc[kriteret for utvalget]`\n",
    "\n",
    "Her ser vi også `datasett.sample(n=8)`\n",
    "Denne funksjonen trekker ut 8 tilfeldige rader av datasettet"
   ]
  },
  {
   "cell_type": "code",
   "execution_count": 12,
   "metadata": {},
   "outputs": [
    {
     "data": {
      "text/html": [
       "<div>\n",
       "<style scoped>\n",
       "    .dataframe tbody tr th:only-of-type {\n",
       "        vertical-align: middle;\n",
       "    }\n",
       "\n",
       "    .dataframe tbody tr th {\n",
       "        vertical-align: top;\n",
       "    }\n",
       "\n",
       "    .dataframe thead th {\n",
       "        text-align: right;\n",
       "    }\n",
       "</style>\n",
       "<table border=\"1\" class=\"dataframe\">\n",
       "  <thead>\n",
       "    <tr style=\"text-align: right;\">\n",
       "      <th></th>\n",
       "      <th>PassengerId</th>\n",
       "      <th>Survived</th>\n",
       "      <th>Pclass</th>\n",
       "      <th>Name</th>\n",
       "      <th>Sex</th>\n",
       "      <th>Age</th>\n",
       "      <th>SibSp</th>\n",
       "      <th>Parch</th>\n",
       "      <th>Ticket</th>\n",
       "      <th>Fare</th>\n",
       "      <th>Cabin</th>\n",
       "      <th>Embarked</th>\n",
       "      <th>Mean_age</th>\n",
       "      <th>Mean_fare</th>\n",
       "      <th>dist_age</th>\n",
       "      <th>dist_fare</th>\n",
       "    </tr>\n",
       "  </thead>\n",
       "  <tbody>\n",
       "    <tr>\n",
       "      <th>122</th>\n",
       "      <td>123</td>\n",
       "      <td>0</td>\n",
       "      <td>2</td>\n",
       "      <td>Nasser, Mr. Nicholas</td>\n",
       "      <td>male</td>\n",
       "      <td>32.5</td>\n",
       "      <td>1</td>\n",
       "      <td>0</td>\n",
       "      <td>237736</td>\n",
       "      <td>30.0708</td>\n",
       "      <td>NaN</td>\n",
       "      <td>C</td>\n",
       "      <td>29.877630</td>\n",
       "      <td>20.662183</td>\n",
       "      <td>2.622370</td>\n",
       "      <td>9.408617</td>\n",
       "    </tr>\n",
       "    <tr>\n",
       "      <th>849</th>\n",
       "      <td>850</td>\n",
       "      <td>1</td>\n",
       "      <td>1</td>\n",
       "      <td>Goldenberg, Mrs. Samuel L (Edwiga Grabowska)</td>\n",
       "      <td>female</td>\n",
       "      <td>NaN</td>\n",
       "      <td>1</td>\n",
       "      <td>0</td>\n",
       "      <td>17453</td>\n",
       "      <td>89.1042</td>\n",
       "      <td>C92</td>\n",
       "      <td>C</td>\n",
       "      <td>38.233441</td>\n",
       "      <td>84.154687</td>\n",
       "      <td>NaN</td>\n",
       "      <td>4.949513</td>\n",
       "    </tr>\n",
       "    <tr>\n",
       "      <th>325</th>\n",
       "      <td>326</td>\n",
       "      <td>1</td>\n",
       "      <td>1</td>\n",
       "      <td>Young, Miss. Marie Grice</td>\n",
       "      <td>female</td>\n",
       "      <td>36.0</td>\n",
       "      <td>0</td>\n",
       "      <td>0</td>\n",
       "      <td>PC 17760</td>\n",
       "      <td>135.6333</td>\n",
       "      <td>C32</td>\n",
       "      <td>C</td>\n",
       "      <td>38.233441</td>\n",
       "      <td>84.154687</td>\n",
       "      <td>-2.233441</td>\n",
       "      <td>51.478613</td>\n",
       "    </tr>\n",
       "    <tr>\n",
       "      <th>362</th>\n",
       "      <td>363</td>\n",
       "      <td>0</td>\n",
       "      <td>3</td>\n",
       "      <td>Barbara, Mrs. (Catherine David)</td>\n",
       "      <td>female</td>\n",
       "      <td>45.0</td>\n",
       "      <td>0</td>\n",
       "      <td>1</td>\n",
       "      <td>2691</td>\n",
       "      <td>14.4542</td>\n",
       "      <td>NaN</td>\n",
       "      <td>C</td>\n",
       "      <td>25.140620</td>\n",
       "      <td>13.675550</td>\n",
       "      <td>19.859380</td>\n",
       "      <td>0.778650</td>\n",
       "    </tr>\n",
       "    <tr>\n",
       "      <th>874</th>\n",
       "      <td>875</td>\n",
       "      <td>1</td>\n",
       "      <td>2</td>\n",
       "      <td>Abelson, Mrs. Samuel (Hannah Wizosky)</td>\n",
       "      <td>female</td>\n",
       "      <td>28.0</td>\n",
       "      <td>1</td>\n",
       "      <td>0</td>\n",
       "      <td>P/PP 3381</td>\n",
       "      <td>24.0000</td>\n",
       "      <td>NaN</td>\n",
       "      <td>C</td>\n",
       "      <td>29.877630</td>\n",
       "      <td>20.662183</td>\n",
       "      <td>-1.877630</td>\n",
       "      <td>3.337817</td>\n",
       "    </tr>\n",
       "    <tr>\n",
       "      <th>591</th>\n",
       "      <td>592</td>\n",
       "      <td>1</td>\n",
       "      <td>1</td>\n",
       "      <td>Stephenson, Mrs. Walter Bertram (Martha Eustis)</td>\n",
       "      <td>female</td>\n",
       "      <td>52.0</td>\n",
       "      <td>1</td>\n",
       "      <td>0</td>\n",
       "      <td>36947</td>\n",
       "      <td>78.2667</td>\n",
       "      <td>D20</td>\n",
       "      <td>C</td>\n",
       "      <td>38.233441</td>\n",
       "      <td>84.154687</td>\n",
       "      <td>13.766559</td>\n",
       "      <td>-5.887987</td>\n",
       "    </tr>\n",
       "    <tr>\n",
       "      <th>255</th>\n",
       "      <td>256</td>\n",
       "      <td>1</td>\n",
       "      <td>3</td>\n",
       "      <td>Touma, Mrs. Darwis (Hanne Youssef Razi)</td>\n",
       "      <td>female</td>\n",
       "      <td>29.0</td>\n",
       "      <td>0</td>\n",
       "      <td>2</td>\n",
       "      <td>2650</td>\n",
       "      <td>15.2458</td>\n",
       "      <td>NaN</td>\n",
       "      <td>C</td>\n",
       "      <td>25.140620</td>\n",
       "      <td>13.675550</td>\n",
       "      <td>3.859380</td>\n",
       "      <td>1.570250</td>\n",
       "    </tr>\n",
       "    <tr>\n",
       "      <th>140</th>\n",
       "      <td>141</td>\n",
       "      <td>0</td>\n",
       "      <td>3</td>\n",
       "      <td>Boulos, Mrs. Joseph (Sultana)</td>\n",
       "      <td>female</td>\n",
       "      <td>NaN</td>\n",
       "      <td>0</td>\n",
       "      <td>2</td>\n",
       "      <td>2678</td>\n",
       "      <td>15.2458</td>\n",
       "      <td>NaN</td>\n",
       "      <td>C</td>\n",
       "      <td>25.140620</td>\n",
       "      <td>13.675550</td>\n",
       "      <td>NaN</td>\n",
       "      <td>1.570250</td>\n",
       "    </tr>\n",
       "  </tbody>\n",
       "</table>\n",
       "</div>"
      ],
      "text/plain": [
       "     PassengerId  Survived Pclass  \\\n",
       "122          123         0      2   \n",
       "849          850         1      1   \n",
       "325          326         1      1   \n",
       "362          363         0      3   \n",
       "874          875         1      2   \n",
       "591          592         1      1   \n",
       "255          256         1      3   \n",
       "140          141         0      3   \n",
       "\n",
       "                                                Name     Sex   Age  SibSp  \\\n",
       "122                             Nasser, Mr. Nicholas    male  32.5      1   \n",
       "849     Goldenberg, Mrs. Samuel L (Edwiga Grabowska)  female   NaN      1   \n",
       "325                         Young, Miss. Marie Grice  female  36.0      0   \n",
       "362                  Barbara, Mrs. (Catherine David)  female  45.0      0   \n",
       "874            Abelson, Mrs. Samuel (Hannah Wizosky)  female  28.0      1   \n",
       "591  Stephenson, Mrs. Walter Bertram (Martha Eustis)  female  52.0      1   \n",
       "255          Touma, Mrs. Darwis (Hanne Youssef Razi)  female  29.0      0   \n",
       "140                    Boulos, Mrs. Joseph (Sultana)  female   NaN      0   \n",
       "\n",
       "     Parch     Ticket      Fare Cabin Embarked   Mean_age  Mean_fare  \\\n",
       "122      0     237736   30.0708   NaN        C  29.877630  20.662183   \n",
       "849      0      17453   89.1042   C92        C  38.233441  84.154687   \n",
       "325      0   PC 17760  135.6333   C32        C  38.233441  84.154687   \n",
       "362      1       2691   14.4542   NaN        C  25.140620  13.675550   \n",
       "874      0  P/PP 3381   24.0000   NaN        C  29.877630  20.662183   \n",
       "591      0      36947   78.2667   D20        C  38.233441  84.154687   \n",
       "255      2       2650   15.2458   NaN        C  25.140620  13.675550   \n",
       "140      2       2678   15.2458   NaN        C  25.140620  13.675550   \n",
       "\n",
       "      dist_age  dist_fare  \n",
       "122   2.622370   9.408617  \n",
       "849        NaN   4.949513  \n",
       "325  -2.233441  51.478613  \n",
       "362  19.859380   0.778650  \n",
       "874  -1.877630   3.337817  \n",
       "591  13.766559  -5.887987  \n",
       "255   3.859380   1.570250  \n",
       "140        NaN   1.570250  "
      ]
     },
     "execution_count": 12,
     "metadata": {},
     "output_type": "execute_result"
    }
   ],
   "source": [
    "Cherbourg = df2.loc[df2['Embarked']=='C']\n",
    "Cherbourg.sample(n=8)"
   ]
  },
  {
   "cell_type": "markdown",
   "metadata": {},
   "source": [
    "Å kjøre substring i pyhon er veldig enkelt ved å kalle på funksjonene `.str[start her : stop her]`. Hver byte (tall/bokstav) har en possision som telles med start 0\n",
    "\n",
    "|p|y|t|h|o|n|\n",
    "|-|-|-|-|-|-|\n",
    "|0|1|2|3|4|5|\n",
    "\n"
   ]
  },
  {
   "cell_type": "code",
   "execution_count": 13,
   "metadata": {},
   "outputs": [
    {
     "data": {
      "text/plain": [
       "1      C85\n",
       "3     C123\n",
       "6      E46\n",
       "10      G6\n",
       "11    C103\n",
       "Name: Cabin, dtype: object"
      ]
     },
     "execution_count": 13,
     "metadata": {},
     "output_type": "execute_result"
    }
   ],
   "source": [
    "df2['Cabin'].dropna().head()"
   ]
  },
  {
   "cell_type": "code",
   "execution_count": 14,
   "metadata": {},
   "outputs": [
    {
     "data": {
      "text/plain": [
       "1     85\n",
       "3     12\n",
       "6     46\n",
       "10     6\n",
       "11    10\n",
       "Name: cabin_level, dtype: object"
      ]
     },
     "execution_count": 14,
     "metadata": {},
     "output_type": "execute_result"
    }
   ],
   "source": [
    "df2['cabin_level'] = df2['Cabin'].str[1:3]\n",
    "    \n",
    "df2['cabin_level'].dropna().head()"
   ]
  },
  {
   "cell_type": "markdown",
   "metadata": {},
   "source": [
    "Det er også mulig og gjøre mye mere avansert tekst prossesering med python. her er et enkelt eksempel på regex.\n",
    "For en grundigere inføring i tekst analyse, referer vi til foredragene som sommerstudentene hadde tidligere.\n",
    "\n",
    "Vi vil på sikt kunne se på å gjøre ett eget kurs på dette også."
   ]
  },
  {
   "cell_type": "code",
   "execution_count": 15,
   "metadata": {},
   "outputs": [
    {
     "data": {
      "text/plain": [
       "Title\n",
       "Master     40\n",
       "Miss      185\n",
       "Mr        517\n",
       "Mrs       126\n",
       "Rare       23\n",
       "Name: PassengerId, dtype: int64"
      ]
     },
     "execution_count": 15,
     "metadata": {},
     "output_type": "execute_result"
    }
   ],
   "source": [
    "df2['Title'] = df2['Name'].str.extract(' ([A-Za-z]+)\\.', expand=False)\n",
    "df2['Title'] = df2['Title'].replace(['Lady', \n",
    "                                     'Countess',\n",
    "                                     'Capt', \n",
    "                                     'Col',\n",
    "                                     'Don', \n",
    "                                     'Dr', \n",
    "                                     'Major', \n",
    "                                     'Rev', \n",
    "                                     'Sir', \n",
    "                                     'Jonkheer', \n",
    "                                     'Dona'], \n",
    "                                     'Rare')\n",
    "\n",
    "df2['Title'] = df2['Title'].replace('Mlle', 'Miss')\n",
    "df2['Title'] = df2['Title'].replace('Ms', 'Miss')\n",
    "df2['Title'] = df2['Title'].replace('Mme', 'Mrs')\n",
    "\n",
    "df2.groupby('Title')['PassengerId'].count()"
   ]
  },
  {
   "cell_type": "markdown",
   "metadata": {},
   "source": [
    "## Data visualisering\n",
    "\n",
    "Nå har vi sett på grunnlegende data prosseseringsmetoder i python. Neste steg er å se på data visualisering.\n",
    "\n",
    "En av de store fordelene med Notebooks er som vi har sett at resultatet av et enkelt prosessteg vises rett under koden du har skrevet. Dette gjelder også for visualiseringer. \n",
    "\n",
    "Dette er ett av de mer komplekse aspektene med Python (matplotlib) men tenk på det som en beskrivelse av grafen"
   ]
  },
  {
   "cell_type": "code",
   "execution_count": 16,
   "metadata": {},
   "outputs": [
    {
     "data": {
      "text/plain": [
       "Text(0, 0.5, 'Antall')"
      ]
     },
     "execution_count": 16,
     "metadata": {},
     "output_type": "execute_result"
    },
    {
     "data": {
      "image/png": "[encoded data removed]",
      "text/plain": [
       "<Figure size 1440x720 with 1 Axes>"
      ]
     },
     "metadata": {
      "needs_background": "light"
     },
     "output_type": "display_data"
    }
   ],
   "source": [
    "plt.figure(figsize=(20,10))\n",
    "plt.hist(df2['Age'],  color = 'g', edgecolor = 'black',\n",
    "         bins = int(16))\n",
    "plt.title('Distribusjon av alder på Titanic', fontsize = 24)\n",
    "plt.xlabel('Alder', fontsize = 14)\n",
    "plt.ylabel('Antall', fontsize = 14)"
   ]
  },
  {
   "cell_type": "code",
   "execution_count": 17,
   "metadata": {},
   "outputs": [
    {
     "data": {
      "text/plain": [
       "Text(0, 0.5, 'Fare')"
      ]
     },
     "execution_count": 17,
     "metadata": {},
     "output_type": "execute_result"
    },
    {
     "data": {
      "image/png": "[encoded data removed]",
      "text/plain": [
       "<Figure size 720x720 with 1 Axes>"
      ]
     },
     "metadata": {
      "needs_background": "light"
     },
     "output_type": "display_data"
    }
   ],
   "source": [
    "x=df2['Age']\n",
    "y=df2['Fare']\n",
    "colors = {'1':'red', '2':'blue', '3':'green'}\n",
    "\n",
    "plt.figure(figsize=(10,10))\n",
    "plt.scatter(x, y, color=df2['Pclass'].apply(lambda x: colors[x]))\n",
    "plt.title('Pris vs alder på Titanic', fontsize = 24)\n",
    "plt.xlabel('Age', fontsize = 14)\n",
    "plt.ylabel('Fare', fontsize = 14)"
   ]
  },
  {
   "cell_type": "code",
   "execution_count": 18,
   "metadata": {},
   "outputs": [
    {
     "data": {
      "text/plain": [
       "Text(0, 0.5, 'Fare')"
      ]
     },
     "execution_count": 18,
     "metadata": {},
     "output_type": "execute_result"
    },
    {
     "data": {
      "image/png": "[encoded data removed]",
      "text/plain": [
       "<Figure size 720x720 with 1 Axes>"
      ]
     },
     "metadata": {
      "needs_background": "light"
     },
     "output_type": "display_data"
    }
   ],
   "source": [
    "x=df2['Age']\n",
    "y=df2['Fare']\n",
    "colors = {'1':'red', '2':'blue', '3':'green'}\n",
    "\n",
    "plt.figure(figsize=(10,10))\n",
    "plt.scatter(x, y, color=df2['Pclass'].apply(lambda x: colors[x]))\n",
    "plt.ylim(0,100)\n",
    "plt.title('Pris vs alder på Titanic', fontsize = 24)\n",
    "plt.xlabel('Age', fontsize = 14)\n",
    "plt.ylabel('Fare', fontsize = 14)"
   ]
  },
  {
   "cell_type": "code",
   "execution_count": 19,
   "metadata": {},
   "outputs": [],
   "source": [
    "colors = {'1':'red', '2':'blue', '3':'green'}"
   ]
  },
  {
   "cell_type": "code",
   "execution_count": 20,
   "metadata": {},
   "outputs": [
    {
     "data": {
      "text/plain": [
       "'red'"
      ]
     },
     "execution_count": 20,
     "metadata": {},
     "output_type": "execute_result"
    }
   ],
   "source": [
    "colors['1']"
   ]
  },
  {
   "cell_type": "code",
   "execution_count": null,
   "metadata": {},
   "outputs": [],
   "source": []
  },
  {
   "cell_type": "code",
   "execution_count": 21,
   "metadata": {},
   "outputs": [
    {
     "data": {
      "text/plain": [
       "0    green\n",
       "1      red\n",
       "2    green\n",
       "3      red\n",
       "4    green\n",
       "Name: Pclass, dtype: object"
      ]
     },
     "execution_count": 21,
     "metadata": {},
     "output_type": "execute_result"
    }
   ],
   "source": [
    "color=df2['Pclass'].apply(lambda x: colors[x])\n",
    "color.head()"
   ]
  },
  {
   "cell_type": "markdown",
   "metadata": {},
   "source": [
    "## Regresjonsanalyser\n",
    "\n",
    "En vanlig oppgave for statistikkproduksjoen er utviklingen av modeller og evaluering av disse modellene. \n",
    "En grunn til at Python har blitt populært som statistisk programeringsspråk er interssen språket fanget for maskinlæring og kunstig intelligens.\n",
    "\n",
    "Men når man går til bunns i både maskinlæring og kunstig inteligens er det til syvende og sist bare avanserte statistiske modeller.\n",
    "\n",
    "I interessen av og holde dette enkelt og kort, skal vi her bare se på en lineær regresjon. \n",
    "Biblioteket `sklearn` eller scikit-learn ineholder en rekke fuksjoner som egner seg til modelbygging og evaluering."
   ]
  },
  {
   "cell_type": "code",
   "execution_count": 22,
   "metadata": {},
   "outputs": [],
   "source": [
    " from sklearn.linear_model import LinearRegression"
   ]
  },
  {
   "cell_type": "markdown",
   "metadata": {},
   "source": [
    "Over er en alternativ form for å importere biblioteker. \n",
    "Her lastes inn en spesifikk funksjon fra et større bibliotek. i dette tilfellet `LinearRegression` fra `sklearn` bibliotekets sammling med `linear_model`er.\n",
    "\n",
    "Som med alle regresjonsanalyser så trenger vi å spessifisere modellen vi skal bruke. det er i grunn ikke noe nytt her ifra det dere har lært tidligere. \n",
    "\n",
    "Navnene på variabelene er primært tradisjon, og kan egentlig endres til det en vil.\n",
    "\n",
    "Noen nye ting imidlertid:\n",
    "* `.fillna()` - denne funksjonen tar alle tomme celler i dataen og fyllre det med innholet i parantesen.\n",
    "* `pd.get_dummies(Datasett)` - Dett er en funksjon i Pandas biblioteket som tar alle kategoriske variabler og lager dummy variabler til disse. Den er imidertid også avansert nok til ikke å lage dummier av ekte numeriske verdier"
   ]
  },
  {
   "cell_type": "code",
   "execution_count": 23,
   "metadata": {},
   "outputs": [
    {
     "data": {
      "text/html": [
       "<div>\n",
       "<style scoped>\n",
       "    .dataframe tbody tr th:only-of-type {\n",
       "        vertical-align: middle;\n",
       "    }\n",
       "\n",
       "    .dataframe tbody tr th {\n",
       "        vertical-align: top;\n",
       "    }\n",
       "\n",
       "    .dataframe thead th {\n",
       "        text-align: right;\n",
       "    }\n",
       "</style>\n",
       "<table border=\"1\" class=\"dataframe\">\n",
       "  <thead>\n",
       "    <tr style=\"text-align: right;\">\n",
       "      <th></th>\n",
       "      <th>Age</th>\n",
       "      <th>dist_age</th>\n",
       "      <th>Pclass_1</th>\n",
       "      <th>Pclass_2</th>\n",
       "      <th>Pclass_3</th>\n",
       "      <th>Sex_female</th>\n",
       "      <th>Sex_male</th>\n",
       "      <th>Embarked_0.0</th>\n",
       "      <th>Embarked_C</th>\n",
       "      <th>Embarked_Q</th>\n",
       "      <th>...</th>\n",
       "      <th>cabin_level_93</th>\n",
       "      <th>cabin_level_94</th>\n",
       "      <th>cabin_level_95</th>\n",
       "      <th>cabin_level_96</th>\n",
       "      <th>cabin_level_99</th>\n",
       "      <th>Title_Master</th>\n",
       "      <th>Title_Miss</th>\n",
       "      <th>Title_Mr</th>\n",
       "      <th>Title_Mrs</th>\n",
       "      <th>Title_Rare</th>\n",
       "    </tr>\n",
       "  </thead>\n",
       "  <tbody>\n",
       "    <tr>\n",
       "      <th>0</th>\n",
       "      <td>22.0</td>\n",
       "      <td>-3.140620</td>\n",
       "      <td>0</td>\n",
       "      <td>0</td>\n",
       "      <td>1</td>\n",
       "      <td>0</td>\n",
       "      <td>1</td>\n",
       "      <td>0</td>\n",
       "      <td>0</td>\n",
       "      <td>0</td>\n",
       "      <td>...</td>\n",
       "      <td>0</td>\n",
       "      <td>0</td>\n",
       "      <td>0</td>\n",
       "      <td>0</td>\n",
       "      <td>0</td>\n",
       "      <td>0</td>\n",
       "      <td>0</td>\n",
       "      <td>1</td>\n",
       "      <td>0</td>\n",
       "      <td>0</td>\n",
       "    </tr>\n",
       "    <tr>\n",
       "      <th>1</th>\n",
       "      <td>38.0</td>\n",
       "      <td>-0.233441</td>\n",
       "      <td>1</td>\n",
       "      <td>0</td>\n",
       "      <td>0</td>\n",
       "      <td>1</td>\n",
       "      <td>0</td>\n",
       "      <td>0</td>\n",
       "      <td>1</td>\n",
       "      <td>0</td>\n",
       "      <td>...</td>\n",
       "      <td>0</td>\n",
       "      <td>0</td>\n",
       "      <td>0</td>\n",
       "      <td>0</td>\n",
       "      <td>0</td>\n",
       "      <td>0</td>\n",
       "      <td>0</td>\n",
       "      <td>0</td>\n",
       "      <td>1</td>\n",
       "      <td>0</td>\n",
       "    </tr>\n",
       "    <tr>\n",
       "      <th>2</th>\n",
       "      <td>26.0</td>\n",
       "      <td>0.859380</td>\n",
       "      <td>0</td>\n",
       "      <td>0</td>\n",
       "      <td>1</td>\n",
       "      <td>1</td>\n",
       "      <td>0</td>\n",
       "      <td>0</td>\n",
       "      <td>0</td>\n",
       "      <td>0</td>\n",
       "      <td>...</td>\n",
       "      <td>0</td>\n",
       "      <td>0</td>\n",
       "      <td>0</td>\n",
       "      <td>0</td>\n",
       "      <td>0</td>\n",
       "      <td>0</td>\n",
       "      <td>1</td>\n",
       "      <td>0</td>\n",
       "      <td>0</td>\n",
       "      <td>0</td>\n",
       "    </tr>\n",
       "    <tr>\n",
       "      <th>3</th>\n",
       "      <td>35.0</td>\n",
       "      <td>-3.233441</td>\n",
       "      <td>1</td>\n",
       "      <td>0</td>\n",
       "      <td>0</td>\n",
       "      <td>1</td>\n",
       "      <td>0</td>\n",
       "      <td>0</td>\n",
       "      <td>0</td>\n",
       "      <td>0</td>\n",
       "      <td>...</td>\n",
       "      <td>0</td>\n",
       "      <td>0</td>\n",
       "      <td>0</td>\n",
       "      <td>0</td>\n",
       "      <td>0</td>\n",
       "      <td>0</td>\n",
       "      <td>0</td>\n",
       "      <td>0</td>\n",
       "      <td>1</td>\n",
       "      <td>0</td>\n",
       "    </tr>\n",
       "    <tr>\n",
       "      <th>4</th>\n",
       "      <td>35.0</td>\n",
       "      <td>9.859380</td>\n",
       "      <td>0</td>\n",
       "      <td>0</td>\n",
       "      <td>1</td>\n",
       "      <td>0</td>\n",
       "      <td>1</td>\n",
       "      <td>0</td>\n",
       "      <td>0</td>\n",
       "      <td>0</td>\n",
       "      <td>...</td>\n",
       "      <td>0</td>\n",
       "      <td>0</td>\n",
       "      <td>0</td>\n",
       "      <td>0</td>\n",
       "      <td>0</td>\n",
       "      <td>0</td>\n",
       "      <td>0</td>\n",
       "      <td>1</td>\n",
       "      <td>0</td>\n",
       "      <td>0</td>\n",
       "    </tr>\n",
       "  </tbody>\n",
       "</table>\n",
       "<p>5 rows × 97 columns</p>\n",
       "</div>"
      ],
      "text/plain": [
       "    Age  dist_age  Pclass_1  Pclass_2  Pclass_3  Sex_female  Sex_male  \\\n",
       "0  22.0 -3.140620         0         0         1           0         1   \n",
       "1  38.0 -0.233441         1         0         0           1         0   \n",
       "2  26.0  0.859380         0         0         1           1         0   \n",
       "3  35.0 -3.233441         1         0         0           1         0   \n",
       "4  35.0  9.859380         0         0         1           0         1   \n",
       "\n",
       "   Embarked_0.0  Embarked_C  Embarked_Q  ...  cabin_level_93  cabin_level_94  \\\n",
       "0             0           0           0  ...               0               0   \n",
       "1             0           1           0  ...               0               0   \n",
       "2             0           0           0  ...               0               0   \n",
       "3             0           0           0  ...               0               0   \n",
       "4             0           0           0  ...               0               0   \n",
       "\n",
       "   cabin_level_95  cabin_level_96  cabin_level_99  Title_Master  Title_Miss  \\\n",
       "0               0               0               0             0           0   \n",
       "1               0               0               0             0           0   \n",
       "2               0               0               0             0           1   \n",
       "3               0               0               0             0           0   \n",
       "4               0               0               0             0           0   \n",
       "\n",
       "   Title_Mr  Title_Mrs  Title_Rare  \n",
       "0         1          0           0  \n",
       "1         0          1           0  \n",
       "2         0          0           0  \n",
       "3         0          1           0  \n",
       "4         1          0           0  \n",
       "\n",
       "[5 rows x 97 columns]"
      ]
     },
     "execution_count": 23,
     "metadata": {},
     "output_type": "execute_result"
    }
   ],
   "source": [
    "y = df2['Fare'].fillna(0.0)\n",
    "x= df2[['Pclass', 'Sex', 'Embarked', 'cabin_level', 'Title', 'Age', 'dist_age']].fillna(0.0)\n",
    "x = pd.get_dummies(x)\n",
    "x.head()"
   ]
  },
  {
   "cell_type": "markdown",
   "metadata": {},
   "source": [
    "Etter å ha etablert dataene vi skal bruke i modellen lager vi selve modellen, denne lagres i et eget objekt. \n",
    "Dette gjør vi fordi i Python så lagres alt dette i minne på maskinen, det gjør det mulig og raskt gjøre ytterlige beregninger på modelen. "
   ]
  },
  {
   "cell_type": "code",
   "execution_count": 24,
   "metadata": {},
   "outputs": [],
   "source": [
    "reg = LinearRegression().fit(x,y)"
   ]
  },
  {
   "cell_type": "code",
   "execution_count": 25,
   "metadata": {},
   "outputs": [
    {
     "data": {
      "text/plain": [
       "Index(['Age', 'dist_age', 'Pclass_1', 'Pclass_2', 'Pclass_3', 'Sex_female',\n",
       "       'Sex_male', 'Embarked_0.0', 'Embarked_C', 'Embarked_Q', 'Embarked_S',\n",
       "       'cabin_level_0.0', 'cabin_level_', 'cabin_level_ E', 'cabin_level_ G',\n",
       "       'cabin_level_10', 'cabin_level_11', 'cabin_level_12', 'cabin_level_14',\n",
       "       'cabin_level_15', 'cabin_level_16', 'cabin_level_17', 'cabin_level_18',\n",
       "       'cabin_level_19', 'cabin_level_2', 'cabin_level_20', 'cabin_level_21',\n",
       "       'cabin_level_22', 'cabin_level_23', 'cabin_level_24', 'cabin_level_25',\n",
       "       'cabin_level_26', 'cabin_level_28', 'cabin_level_3', 'cabin_level_30',\n",
       "       'cabin_level_31', 'cabin_level_32', 'cabin_level_33', 'cabin_level_34',\n",
       "       'cabin_level_35', 'cabin_level_36', 'cabin_level_37', 'cabin_level_38',\n",
       "       'cabin_level_39', 'cabin_level_4', 'cabin_level_40', 'cabin_level_41',\n",
       "       'cabin_level_42', 'cabin_level_44', 'cabin_level_45', 'cabin_level_46',\n",
       "       'cabin_level_47', 'cabin_level_48', 'cabin_level_49', 'cabin_level_5',\n",
       "       'cabin_level_50', 'cabin_level_51', 'cabin_level_52', 'cabin_level_54',\n",
       "       'cabin_level_56', 'cabin_level_57', 'cabin_level_58', 'cabin_level_6',\n",
       "       'cabin_level_62', 'cabin_level_63', 'cabin_level_65', 'cabin_level_67',\n",
       "       'cabin_level_68', 'cabin_level_69', 'cabin_level_7', 'cabin_level_70',\n",
       "       'cabin_level_71', 'cabin_level_73', 'cabin_level_77', 'cabin_level_78',\n",
       "       'cabin_level_79', 'cabin_level_8', 'cabin_level_80', 'cabin_level_82',\n",
       "       'cabin_level_83', 'cabin_level_85', 'cabin_level_86', 'cabin_level_87',\n",
       "       'cabin_level_9', 'cabin_level_90', 'cabin_level_91', 'cabin_level_92',\n",
       "       'cabin_level_93', 'cabin_level_94', 'cabin_level_95', 'cabin_level_96',\n",
       "       'cabin_level_99', 'Title_Master', 'Title_Miss', 'Title_Mr', 'Title_Mrs',\n",
       "       'Title_Rare'],\n",
       "      dtype='object')"
      ]
     },
     "execution_count": 25,
     "metadata": {},
     "output_type": "execute_result"
    }
   ],
   "source": [
    "x.columns"
   ]
  },
  {
   "cell_type": "code",
   "execution_count": 26,
   "metadata": {},
   "outputs": [
    {
     "data": {
      "text/plain": [
       "array([ 2.16276616e-01, -5.11088836e-01,  4.13851041e+12,  4.13851041e+12,\n",
       "        4.13851041e+12, -3.87234889e+11, -3.87234889e+11,  4.00782865e+12,\n",
       "        4.00782865e+12,  4.00782865e+12,  4.00782865e+12, -1.13153820e+11,\n",
       "       -1.13153820e+11, -1.13153820e+11, -1.13153820e+11, -1.13153820e+11,\n",
       "       -1.13153820e+11, -1.13153820e+11, -1.13153820e+11, -1.13153820e+11,\n",
       "       -1.13153820e+11, -1.13153820e+11, -1.13153820e+11, -1.13153820e+11,\n",
       "       -1.13153820e+11, -1.13153820e+11, -1.13153820e+11, -1.13153820e+11,\n",
       "       -1.13153820e+11, -1.13153820e+11, -1.13153820e+11, -1.13153820e+11,\n",
       "       -1.13153820e+11, -1.13153820e+11, -1.13153820e+11, -1.13153820e+11,\n",
       "       -1.13153820e+11, -1.13153820e+11, -1.13153820e+11, -1.13153820e+11,\n",
       "       -1.13153820e+11, -1.13153820e+11, -1.13153820e+11, -1.13153820e+11,\n",
       "       -1.13153820e+11, -1.13153820e+11, -1.13153820e+11, -1.13153820e+11,\n",
       "       -1.13153820e+11, -1.13153820e+11, -1.13153820e+11, -1.13153820e+11,\n",
       "       -1.13153820e+11, -1.13153820e+11, -1.13153820e+11, -1.13153820e+11,\n",
       "       -1.13153820e+11, -1.13153820e+11, -1.13153820e+11, -1.13153820e+11,\n",
       "       -1.13153820e+11, -1.13153820e+11, -1.13153820e+11, -1.13153820e+11,\n",
       "       -1.13153820e+11, -1.13153820e+11, -1.13153820e+11, -1.13153820e+11,\n",
       "       -1.13153820e+11, -1.13153820e+11, -1.13153820e+11, -1.13153820e+11,\n",
       "       -1.13153820e+11, -1.13153820e+11, -1.13153820e+11, -1.13153820e+11,\n",
       "       -1.13153820e+11, -1.13153820e+11, -1.13153820e+11, -1.13153820e+11,\n",
       "       -1.13153820e+11, -1.13153820e+11, -1.13153820e+11, -1.13153820e+11,\n",
       "       -1.13153820e+11, -1.13153820e+11, -1.13153820e+11, -1.13153820e+11,\n",
       "       -1.13153820e+11, -1.13153820e+11, -1.13153820e+11, -1.13153820e+11,\n",
       "       -2.90558181e+12, -2.90558181e+12, -2.90558181e+12, -2.90558181e+12,\n",
       "       -2.90558181e+12])"
      ]
     },
     "execution_count": 26,
     "metadata": {},
     "output_type": "execute_result"
    }
   ],
   "source": [
    "reg.coef_"
   ]
  },
  {
   "cell_type": "code",
   "execution_count": 27,
   "metadata": {},
   "outputs": [],
   "source": [
    "rdf = pd.DataFrame({'kolonne':x.columns, 'koef':reg.coef_})"
   ]
  },
  {
   "cell_type": "code",
   "execution_count": 28,
   "metadata": {},
   "outputs": [
    {
     "data": {
      "text/html": [
       "<div>\n",
       "<style scoped>\n",
       "    .dataframe tbody tr th:only-of-type {\n",
       "        vertical-align: middle;\n",
       "    }\n",
       "\n",
       "    .dataframe tbody tr th {\n",
       "        vertical-align: top;\n",
       "    }\n",
       "\n",
       "    .dataframe thead th {\n",
       "        text-align: right;\n",
       "    }\n",
       "</style>\n",
       "<table border=\"1\" class=\"dataframe\">\n",
       "  <thead>\n",
       "    <tr style=\"text-align: right;\">\n",
       "      <th></th>\n",
       "      <th>kolonne</th>\n",
       "      <th>koef</th>\n",
       "    </tr>\n",
       "  </thead>\n",
       "  <tbody>\n",
       "    <tr>\n",
       "      <th>0</th>\n",
       "      <td>Age</td>\n",
       "      <td>2.162766e-01</td>\n",
       "    </tr>\n",
       "    <tr>\n",
       "      <th>1</th>\n",
       "      <td>dist_age</td>\n",
       "      <td>-5.110888e-01</td>\n",
       "    </tr>\n",
       "    <tr>\n",
       "      <th>2</th>\n",
       "      <td>Pclass_1</td>\n",
       "      <td>4.138510e+12</td>\n",
       "    </tr>\n",
       "    <tr>\n",
       "      <th>3</th>\n",
       "      <td>Pclass_2</td>\n",
       "      <td>4.138510e+12</td>\n",
       "    </tr>\n",
       "    <tr>\n",
       "      <th>4</th>\n",
       "      <td>Pclass_3</td>\n",
       "      <td>4.138510e+12</td>\n",
       "    </tr>\n",
       "  </tbody>\n",
       "</table>\n",
       "</div>"
      ],
      "text/plain": [
       "    kolonne          koef\n",
       "0       Age  2.162766e-01\n",
       "1  dist_age -5.110888e-01\n",
       "2  Pclass_1  4.138510e+12\n",
       "3  Pclass_2  4.138510e+12\n",
       "4  Pclass_3  4.138510e+12"
      ]
     },
     "execution_count": 28,
     "metadata": {},
     "output_type": "execute_result"
    }
   ],
   "source": [
    "rdf.head()"
   ]
  },
  {
   "cell_type": "markdown",
   "metadata": {},
   "source": [
    "### SAS-filer\n",
    "\n",
    "Pandas klarer også å lese SAS-filer, med funksjonen `pd.read_sas()`"
   ]
  },
  {
   "cell_type": "code",
   "execution_count": 29,
   "metadata": {},
   "outputs": [],
   "source": [
    "# pd.read_sas('datasett.sas7bdat')"
   ]
  },
  {
   "cell_type": "code",
   "execution_count": 30,
   "metadata": {},
   "outputs": [
    {
     "name": "stdout",
     "output_type": "stream",
     "text": [
      "-4740368537371.428\n"
     ]
    }
   ],
   "source": [
    "print(reg.intercept_)"
   ]
  },
  {
   "cell_type": "code",
   "execution_count": 31,
   "metadata": {},
   "outputs": [
    {
     "name": "stdout",
     "output_type": "stream",
     "text": [
      "0.5973648912668129\n"
     ]
    }
   ],
   "source": [
    "print(reg.score(x,y))"
   ]
  },
  {
   "cell_type": "markdown",
   "metadata": {},
   "source": [
    "# Avslutningsvis\n",
    "\n"
   ]
  },
  {
   "cell_type": "markdown",
   "metadata": {},
   "source": [
    "Dette har vært en kort gjennomgang av funksjoner og bibliotek som er egnet for dataanalyse. Python brukes til veldig mye forskjellig, alt fra å lage nettsider til å programmere fysiske roboter. Følgelig finner du mye informasjon på nettet, og det kan lønne seg å søke spesifikt på python for dataanalyse heller enn bare python."
   ]
  },
  {
   "cell_type": "code",
   "execution_count": null,
   "metadata": {},
   "outputs": [],
   "source": []
  }
 ],
 "metadata": {
  "kernelspec": {
   "display_name": "Python 3",
   "language": "python",
   "name": "python3"
  },
  "language_info": {
   "codemirror_mode": {
    "name": "ipython",
    "version": 3
   },
   "file_extension": ".py",
   "mimetype": "text/x-python",
   "name": "python",
   "nbconvert_exporter": "python",
   "pygments_lexer": "ipython3",
   "version": "3.8.5"
  }
 },
 "nbformat": 4,
 "nbformat_minor": 4
}
